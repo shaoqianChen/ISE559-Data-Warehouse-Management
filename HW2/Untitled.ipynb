{
 "cells": [
  {
   "cell_type": "code",
   "execution_count": 1,
   "metadata": {},
   "outputs": [],
   "source": [
    "import csv\n",
    "import json"
   ]
  },
  {
   "cell_type": "code",
   "execution_count": 2,
   "metadata": {},
   "outputs": [],
   "source": [
    "def task1(inputfile,outputfile):\n",
    "    csv1 = csv.reader(open(inputfile,\"rt\"))\n",
    "    sort = list(csv1)\n",
    "    biglist = [[],[],[],[],[],[],[],[],[],[],[],[]]\n",
    "    for i in range(1,len(sort)):\n",
    "      if (sort[i][1]==\"108\"):\n",
    "        biglist[11].append(int(sort[i][2]))\n",
    "      if (sort[i][1]==\"107\"):\n",
    "        biglist[10].append(int(sort[i][2]))\n",
    "      if (sort[i][1]==\"106\"):\n",
    "        biglist[9].append(int(sort[i][2]))\n",
    "      if (sort[i][1]==\"105\"):\n",
    "        biglist[8].append(int(sort[i][2]))\n",
    "      if (sort[i][1]==\"104\"):\n",
    "        biglist[7].append(int(sort[i][2]))\n",
    "      if (sort[i][1]==\"103\"):\n",
    "        biglist[6].append(int(sort[i][2]))\n",
    "      if (sort[i][1]==\"102\"):\n",
    "        biglist[5].append(int(sort[i][2]))\n",
    "      if (sort[i][1]==\"101\"):\n",
    "        biglist[4].append(int(sort[i][2]))\n",
    "      if (sort[i][1]==\"100\"):\n",
    "        biglist[3].append(int(sort[i][2]))\n",
    "      if (sort[i][1]==\"99\"):\n",
    "        biglist[2].append(int(sort[i][2]))\n",
    "      if (sort[i][1]==\"98\"):\n",
    "        biglist[1].append(int(sort[i][2]))\n",
    "      if (sort[i][1]==\"97\"):\n",
    "        biglist[0].append(int(sort[i][2]))\n",
    "    tasklist = []\n",
    "    for j in biglist:\n",
    "      if len(j)==0:\n",
    "        tasklist.append(0)\n",
    "      else:\n",
    "        tasklist.append(round(sum(j)/len(j),1))  \n",
    "    movieID = [97,98,99,100,101,102,103,104,105,106,107,108]\n",
    "    \n",
    "    with open(outputfile, 'w', newline='') as file:\n",
    "        writer = csv.writer(file)\n",
    "        for i in range(len(tasklist)):\n",
    "          writer.writerow([movieID[i],tasklist[i]])"
   ]
  },
  {
   "cell_type": "code",
   "execution_count": 3,
   "metadata": {},
   "outputs": [],
   "source": [
    "task1(\"movies.csv\",\"task1.csv\")"
   ]
  },
  {
   "cell_type": "raw",
   "metadata": {},
   "source": []
  },
  {
   "cell_type": "code",
   "execution_count": 4,
   "metadata": {},
   "outputs": [],
   "source": [
    "def task2(inputfile,outputfile):\n",
    "    csv1 = csv.reader(open(inputfile,\"rt\"))\n",
    "    sort = list(csv1)\n",
    "    biglist = [[],[],[],[],[],[],[],[],[],[],[],[]]\n",
    "    for i in range(1,len(sort)):\n",
    "      if (sort[i][1]==\"108\"):\n",
    "        biglist[11].append(int(sort[i][2]))\n",
    "      if (sort[i][1]==\"107\"):\n",
    "        biglist[10].append(int(sort[i][2]))\n",
    "      if (sort[i][1]==\"106\"):\n",
    "        biglist[9].append(int(sort[i][2]))\n",
    "      if (sort[i][1]==\"105\"):\n",
    "        biglist[8].append(int(sort[i][2]))\n",
    "      if (sort[i][1]==\"104\"):\n",
    "        biglist[7].append(int(sort[i][2]))\n",
    "      if (sort[i][1]==\"103\"):\n",
    "        biglist[6].append(int(sort[i][2]))\n",
    "      if (sort[i][1]==\"102\"):\n",
    "        biglist[5].append(int(sort[i][2]))\n",
    "      if (sort[i][1]==\"101\"):\n",
    "        biglist[4].append(int(sort[i][2]))\n",
    "      if (sort[i][1]==\"100\"):\n",
    "        biglist[3].append(int(sort[i][2]))\n",
    "      if (sort[i][1]==\"99\"):\n",
    "        biglist[2].append(int(sort[i][2]))\n",
    "      if (sort[i][1]==\"98\"):\n",
    "        biglist[1].append(int(sort[i][2]))\n",
    "      if (sort[i][1]==\"97\"):\n",
    "        biglist[0].append(int(sort[i][2]))\n",
    "    tasklist = []\n",
    "    for j in biglist:\n",
    "      if len(j)==0:\n",
    "        tasklist.append(0)\n",
    "      else:\n",
    "        tasklist.append(round(sum(j)/len(j),1))  \n",
    "    movieID = [97,98,99,100,101,102,103,104,105,106,107,108]\n",
    "    \n",
    "    with open(outputfile, 'w', newline='') as file:\n",
    "        writer = csv.writer(file)\n",
    "        writer.writerow([\"movieID\",\"avg_rating\"])\n",
    "        for i in range(len(tasklist)):\n",
    "          writer.writerow([movieID[i],tasklist[i]])"
   ]
  },
  {
   "cell_type": "code",
   "execution_count": 5,
   "metadata": {},
   "outputs": [],
   "source": [
    "task2(\"movies.csv\",\"task2.csv\")"
   ]
  },
  {
   "cell_type": "code",
   "execution_count": null,
   "metadata": {},
   "outputs": [],
   "source": []
  },
  {
   "cell_type": "code",
   "execution_count": null,
   "metadata": {},
   "outputs": [],
   "source": []
  },
  {
   "cell_type": "code",
   "execution_count": null,
   "metadata": {},
   "outputs": [],
   "source": []
  },
  {
   "cell_type": "code",
   "execution_count": 6,
   "metadata": {},
   "outputs": [],
   "source": [
    "import json"
   ]
  },
  {
   "cell_type": "code",
   "execution_count": 7,
   "metadata": {},
   "outputs": [],
   "source": [
    "def task3(jsoninput,jsonoutput):\n",
    "    with open(jsoninput) as f:\n",
    "        data = json.load(f)\n",
    "    biglist3 = [[],[],[],[],[],[],[],[],[],[],[],[]]\n",
    "    for i in range(len(data[\"data\"])):\n",
    "      if (data[\"data\"][i][1]==108):\n",
    "        biglist3[11].append(int(data[\"data\"][i][2]))\n",
    "      if (data[\"data\"][i][1]==107):\n",
    "        biglist3[10].append(int(data[\"data\"][i][2]))\n",
    "      if (data[\"data\"][i][1]==106):\n",
    "        biglist3[9].append(int(data[\"data\"][i][2]))\n",
    "      if (data[\"data\"][i][1]==105):\n",
    "        biglist3[8].append(int(data[\"data\"][i][2]))\n",
    "      if (data[\"data\"][i][1]==104):\n",
    "        biglist3[7].append(int(data[\"data\"][i][2]))\n",
    "      if (data[\"data\"][i][1]==103):\n",
    "        biglist3[6].append(int(data[\"data\"][i][2]))\n",
    "      if (data[\"data\"][i][1]==102):\n",
    "        biglist3[5].append(int(data[\"data\"][i][2]))\n",
    "      if (data[\"data\"][i][1]==101):\n",
    "        biglist3[4].append(int(data[\"data\"][i][2]))\n",
    "      if (data[\"data\"][i][1]==100):\n",
    "        biglist3[3].append(int(data[\"data\"][i][2]))\n",
    "      if (data[\"data\"][i][1]==99):\n",
    "        biglist3[2].append(int(data[\"data\"][i][2]))\n",
    "      if (data[\"data\"][i][1]==98):\n",
    "        biglist3[1].append(int(data[\"data\"][i][2]))\n",
    "      if (data[\"data\"][i][1]==97):\n",
    "        biglist3[0].append(int(data[\"data\"][i][2]))\n",
    "    tasklist3 = []\n",
    "    for j in biglist3:\n",
    "      if len(j)==0:\n",
    "        tasklist3.append(0)\n",
    "      else:\n",
    "        tasklist3.append(round(sum(j)/len(j),1))  \n",
    "    movieID = [97,98,99,100,101,102,103,104,105,106,107,108]\n",
    "    a = {\"metadata\":{\"info\":{\"author\": \"Shaoqian Chen\", \"organization\": \"USC\", \"creation_date\": \"02/24/2020\"},\"columns\":{\"movieID\":\"movie id for the movies\",\"avg_rating\":\"avg rating given to the movies\",}},\"data\":[[k,v]for k, v in zip(movieID, tasklist3)]}\n",
    "    with open('task3.json', 'w') as json_file:\n",
    "      json.dump(a,json_file,indent=4)"
   ]
  },
  {
   "cell_type": "code",
   "execution_count": 8,
   "metadata": {},
   "outputs": [],
   "source": [
    "task3(\"movies.json\",\"task3.json\")"
   ]
  },
  {
   "cell_type": "code",
   "execution_count": null,
   "metadata": {},
   "outputs": [],
   "source": []
  },
  {
   "cell_type": "code",
   "execution_count": null,
   "metadata": {},
   "outputs": [],
   "source": []
  },
  {
   "cell_type": "code",
   "execution_count": null,
   "metadata": {},
   "outputs": [],
   "source": []
  },
  {
   "cell_type": "code",
   "execution_count": null,
   "metadata": {},
   "outputs": [],
   "source": []
  },
  {
   "cell_type": "code",
   "execution_count": 9,
   "metadata": {},
   "outputs": [],
   "source": [
    "def task4(inputjson,outputcsv):\n",
    "    with open(inputjson) as f:\n",
    "        data = json.load(f)\n",
    "        \n",
    "    with open(outputcsv, 'w', newline='') as file:\n",
    "        writer = csv.writer(file)\n",
    "        writer.writerow([\"author\",\"organization\",\"creation_date\"])\n",
    "        writer.writerow([data[\"metadata\"][\"info\"][\"author\"],data[\"metadata\"][\"info\"][\"organization\"],data[\"metadata\"][\"info\"][\"creation_date\"]])\n",
    "        writer.writerow([' '])\n",
    "        writer.writerow(['movieID',\"avg_rating\"])\n",
    "        for i in range(len(data[\"data\"])):\n",
    "          writer.writerow([data[\"data\"][i][0],data[\"data\"][i][1]])"
   ]
  },
  {
   "cell_type": "code",
   "execution_count": 10,
   "metadata": {},
   "outputs": [],
   "source": [
    "task4(\"task3.json\",\"task4.csv\")"
   ]
  },
  {
   "cell_type": "code",
   "execution_count": 11,
   "metadata": {},
   "outputs": [],
   "source": [
    "#Extra Credit"
   ]
  },
  {
   "cell_type": "code",
   "execution_count": 12,
   "metadata": {},
   "outputs": [
    {
     "name": "stdout",
     "output_type": "stream",
     "text": [
      "['author', 'organization', 'creation_date']\n",
      "['Shaoqian Chen', 'USC', '02/24/2020']\n",
      "[' ']\n",
      "['movieID', 'avg_rating']\n",
      "['97', '2.5']\n",
      "['98', '2.8']\n",
      "['99', '2.1']\n",
      "['100', '3.2']\n",
      "['101', '3.7']\n",
      "['102', '3.4']\n",
      "['103', '4.0']\n",
      "['104', '3.0']\n",
      "['105', '2.3']\n",
      "['106', '4.0']\n",
      "['107', '1.0']\n",
      "['108', '4.0']\n"
     ]
    }
   ],
   "source": [
    "with open(\"task4.csv\",\"r\") as f:\n",
    "    dt = csv.reader(f)\n",
    "    for row in dt:\n",
    "        print(row)"
   ]
  },
  {
   "cell_type": "code",
   "execution_count": null,
   "metadata": {},
   "outputs": [],
   "source": []
  },
  {
   "cell_type": "code",
   "execution_count": 16,
   "metadata": {},
   "outputs": [
    {
     "name": "stdout",
     "output_type": "stream",
     "text": [
      "Collecting tableschema\n",
      "  Using cached https://files.pythonhosted.org/packages/e3/b3/d61a2a9b174c2f436215ab6f1ef7748e2c6cd65d55d43f5bb55641a0971e/tableschema-1.13.1-py2.py3-none-any.whl\n",
      "Requirement already satisfied: rfc3986>=1.1.0 in /Users/shaoqianchen/anaconda2/envs/python3/lib/python3.7/site-packages (from tableschema) (1.3.2)\n",
      "Requirement already satisfied: jsonschema>=2.5 in /Users/shaoqianchen/anaconda2/envs/python3/lib/python3.7/site-packages (from tableschema) (3.2.0)\n",
      "Requirement already satisfied: six>=1.9 in /Users/shaoqianchen/anaconda2/envs/python3/lib/python3.7/site-packages (from tableschema) (1.13.0)\n",
      "Requirement already satisfied: python-dateutil>=2.4 in /Users/shaoqianchen/anaconda2/envs/python3/lib/python3.7/site-packages (from tableschema) (2.8.1)\n",
      "Collecting tabulator>=1.29\n",
      "  Using cached https://files.pythonhosted.org/packages/90/b8/cee80f750f2c87194ed8a587d56cf0cefc2cd097cb17c8866c5719187fb6/tabulator-1.35.0-py2.py3-none-any.whl\n",
      "Requirement already satisfied: isodate>=0.5.4 in /Users/shaoqianchen/anaconda2/envs/python3/lib/python3.7/site-packages (from tableschema) (0.6.0)\n",
      "Requirement already satisfied: click>=3.3 in /Users/shaoqianchen/anaconda2/envs/python3/lib/python3.7/site-packages (from tableschema) (7.0)\n",
      "Requirement already satisfied: requests>=2.5 in /Users/shaoqianchen/anaconda2/envs/python3/lib/python3.7/site-packages (from tableschema) (2.23.0)\n",
      "Requirement already satisfied: unicodecsv>=0.14 in /Users/shaoqianchen/anaconda2/envs/python3/lib/python3.7/site-packages (from tableschema) (0.14.1)\n",
      "Requirement already satisfied: importlib-metadata; python_version < \"3.8\" in /Users/shaoqianchen/anaconda2/envs/python3/lib/python3.7/site-packages (from jsonschema>=2.5->tableschema) (1.3.0)\n",
      "Requirement already satisfied: pyrsistent>=0.14.0 in /Users/shaoqianchen/anaconda2/envs/python3/lib/python3.7/site-packages (from jsonschema>=2.5->tableschema) (0.15.6)\n",
      "Requirement already satisfied: attrs>=17.4.0 in /Users/shaoqianchen/anaconda2/envs/python3/lib/python3.7/site-packages (from jsonschema>=2.5->tableschema) (19.3.0)\n",
      "Requirement already satisfied: setuptools in /Users/shaoqianchen/anaconda2/envs/python3/lib/python3.7/site-packages (from jsonschema>=2.5->tableschema) (44.0.0.post20200106)\n",
      "Collecting jsonlines>=1.1\n",
      "  Using cached https://files.pythonhosted.org/packages/4f/9a/ab96291470e305504aa4b7a2e0ec132e930da89eb3ca7a82fbe03167c131/jsonlines-1.2.0-py2.py3-none-any.whl\n",
      "Collecting boto3>=1.9\n",
      "  Using cached https://files.pythonhosted.org/packages/a7/e0/2192d1c5f2796a421ef93355e823ee1f34b8f907348ca50e4ef84aac5b5c/boto3-1.12.7-py2.py3-none-any.whl\n",
      "Requirement already satisfied: xlrd>=1.0 in /Users/shaoqianchen/anaconda2/envs/python3/lib/python3.7/site-packages (from tabulator>=1.29->tableschema) (1.2.0)\n",
      "Processing /Users/shaoqianchen/Library/Caches/pip/wheels/3f/8a/cb/38917fd1ef4356b9870ace7331b83417dc594bf2c029bd991f/linear_tsv-1.1.0-cp37-none-any.whl\n",
      "Collecting cchardet>=1.0\n",
      "  Using cached https://files.pythonhosted.org/packages/73/25/73649708a30aa97124631bd088a22f1bf721d05d4e72fb9cc9bedb97de51/cchardet-2.1.5.tar.gz\n",
      "Collecting ijson>=2.5\n",
      "  Using cached https://files.pythonhosted.org/packages/fc/d8/8966b7f32166e04a336a35a49867b39e45f92e3d34849b5f4a3aa3a3b4ce/ijson-2.6.1-cp37-cp37m-macosx_10_6_x86_64.whl\n",
      "Requirement already satisfied: openpyxl>=2.6 in /Users/shaoqianchen/anaconda2/envs/python3/lib/python3.7/site-packages (from tabulator>=1.29->tableschema) (3.0.3)\n",
      "Processing /Users/shaoqianchen/Library/Caches/pip/wheels/b3/35/98/4c9cb3fd63d21d5606b972dd70643769745adf60e622467b71/SQLAlchemy-1.3.13-cp37-cp37m-macosx_10_9_x86_64.whl\n",
      "Requirement already satisfied: certifi>=2017.4.17 in /Users/shaoqianchen/anaconda2/envs/python3/lib/python3.7/site-packages (from requests>=2.5->tableschema) (2019.11.28)\n",
      "Requirement already satisfied: urllib3!=1.25.0,!=1.25.1,<1.26,>=1.21.1 in /Users/shaoqianchen/anaconda2/envs/python3/lib/python3.7/site-packages (from requests>=2.5->tableschema) (1.25.8)\n",
      "Requirement already satisfied: chardet<4,>=3.0.2 in /Users/shaoqianchen/anaconda2/envs/python3/lib/python3.7/site-packages (from requests>=2.5->tableschema) (3.0.4)\n",
      "Requirement already satisfied: idna<3,>=2.5 in /Users/shaoqianchen/anaconda2/envs/python3/lib/python3.7/site-packages (from requests>=2.5->tableschema) (2.9)\n",
      "Requirement already satisfied: zipp>=0.5 in /Users/shaoqianchen/anaconda2/envs/python3/lib/python3.7/site-packages (from importlib-metadata; python_version < \"3.8\"->jsonschema>=2.5->tableschema) (0.6.0)\n",
      "Collecting s3transfer<0.4.0,>=0.3.0\n",
      "  Using cached https://files.pythonhosted.org/packages/69/79/e6afb3d8b0b4e96cefbdc690f741d7dd24547ff1f94240c997a26fa908d3/s3transfer-0.3.3-py2.py3-none-any.whl\n",
      "Collecting jmespath<1.0.0,>=0.7.1\n",
      "  Using cached https://files.pythonhosted.org/packages/a3/43/1e939e1fcd87b827fe192d0c9fc25b48c5b3368902bfb913de7754b0dc03/jmespath-0.9.5-py2.py3-none-any.whl\n",
      "Collecting botocore<1.16.0,>=1.15.7\n",
      "  Using cached https://files.pythonhosted.org/packages/19/3b/0c00c9e06db3c19cdd3a88690aec1487ac9585aea503a2f38407cff48734/botocore-1.15.7-py2.py3-none-any.whl\n",
      "Requirement already satisfied: jdcal in /Users/shaoqianchen/anaconda2/envs/python3/lib/python3.7/site-packages (from openpyxl>=2.6->tabulator>=1.29->tableschema) (1.4.1)\n",
      "Requirement already satisfied: et-xmlfile in /Users/shaoqianchen/anaconda2/envs/python3/lib/python3.7/site-packages (from openpyxl>=2.6->tabulator>=1.29->tableschema) (1.0.1)\n",
      "Requirement already satisfied: more-itertools in /Users/shaoqianchen/anaconda2/envs/python3/lib/python3.7/site-packages (from zipp>=0.5->importlib-metadata; python_version < \"3.8\"->jsonschema>=2.5->tableschema) (8.0.2)\n",
      "Collecting docutils<0.16,>=0.10\n",
      "  Using cached https://files.pythonhosted.org/packages/22/cd/a6aa959dca619918ccb55023b4cb151949c64d4d5d55b3f4ffd7eee0c6e8/docutils-0.15.2-py3-none-any.whl\n",
      "Building wheels for collected packages: cchardet\n",
      "  Building wheel for cchardet (setup.py) ... \u001b[?25lerror\n",
      "\u001b[31m  ERROR: Command errored out with exit status 1:\n",
      "   command: /Users/shaoqianchen/anaconda2/envs/python3/bin/python -u -c 'import sys, setuptools, tokenize; sys.argv[0] = '\"'\"'/private/var/folders/z2/rk6k4xmn1hg327xm9s6lygfh0000gn/T/pip-install-39jhz7us/cchardet/setup.py'\"'\"'; __file__='\"'\"'/private/var/folders/z2/rk6k4xmn1hg327xm9s6lygfh0000gn/T/pip-install-39jhz7us/cchardet/setup.py'\"'\"';f=getattr(tokenize, '\"'\"'open'\"'\"', open)(__file__);code=f.read().replace('\"'\"'\\r\\n'\"'\"', '\"'\"'\\n'\"'\"');f.close();exec(compile(code, __file__, '\"'\"'exec'\"'\"'))' bdist_wheel -d /private/var/folders/z2/rk6k4xmn1hg327xm9s6lygfh0000gn/T/pip-wheel-2et9mgcq --python-tag cp37\n",
      "       cwd: /private/var/folders/z2/rk6k4xmn1hg327xm9s6lygfh0000gn/T/pip-install-39jhz7us/cchardet/\n",
      "  Complete output (20 lines):\n",
      "  running bdist_wheel\n",
      "  running build\n",
      "  running build_py\n",
      "  creating build\n",
      "  creating build/lib.macosx-10.9-x86_64-3.7\n",
      "  creating build/lib.macosx-10.9-x86_64-3.7/cchardet\n",
      "  copying src/cchardet/version.py -> build/lib.macosx-10.9-x86_64-3.7/cchardet\n",
      "  copying src/cchardet/__init__.py -> build/lib.macosx-10.9-x86_64-3.7/cchardet\n",
      "  running build_ext\n",
      "  building 'cchardet._cchardet' extension\n",
      "  creating build/temp.macosx-10.9-x86_64-3.7\n",
      "  creating build/temp.macosx-10.9-x86_64-3.7/src\n",
      "  creating build/temp.macosx-10.9-x86_64-3.7/src/cchardet\n",
      "  creating build/temp.macosx-10.9-x86_64-3.7/src/ext\n",
      "  creating build/temp.macosx-10.9-x86_64-3.7/src/ext/uchardet\n",
      "  creating build/temp.macosx-10.9-x86_64-3.7/src/ext/uchardet/src\n",
      "  creating build/temp.macosx-10.9-x86_64-3.7/src/ext/uchardet/src/LangModels\n",
      "  gcc -Wno-unused-result -Wsign-compare -Wunreachable-code -DNDEBUG -g -fwrapv -O3 -Wall -I/Users/shaoqianchen/anaconda2/envs/python3/include -arch x86_64 -I/Users/shaoqianchen/anaconda2/envs/python3/include -arch x86_64 -Isrc/ext/uchardet/src -I/Users/shaoqianchen/anaconda2/envs/python3/include/python3.7m -c src/cchardet/_cchardet.cpp -o build/temp.macosx-10.9-x86_64-3.7/src/cchardet/_cchardet.o\n",
      "  xcrun: error: invalid active developer path (/Library/Developer/CommandLineTools), missing xcrun at: /Library/Developer/CommandLineTools/usr/bin/xcrun\n",
      "  error: command 'gcc' failed with exit status 1\n",
      "  ----------------------------------------\u001b[0m\n",
      "\u001b[31m  ERROR: Failed building wheel for cchardet\u001b[0m\n",
      "\u001b[?25h  Running setup.py clean for cchardet\n"
     ]
    },
    {
     "name": "stdout",
     "output_type": "stream",
     "text": [
      "Failed to build cchardet\n",
      "Installing collected packages: jsonlines, jmespath, docutils, botocore, s3transfer, boto3, linear-tsv, cchardet, ijson, sqlalchemy, tabulator, tableschema\n",
      "    Running setup.py install for cchardet ... \u001b[?25lerror\n",
      "\u001b[31m    ERROR: Command errored out with exit status 1:\n",
      "     command: /Users/shaoqianchen/anaconda2/envs/python3/bin/python -u -c 'import sys, setuptools, tokenize; sys.argv[0] = '\"'\"'/private/var/folders/z2/rk6k4xmn1hg327xm9s6lygfh0000gn/T/pip-install-39jhz7us/cchardet/setup.py'\"'\"'; __file__='\"'\"'/private/var/folders/z2/rk6k4xmn1hg327xm9s6lygfh0000gn/T/pip-install-39jhz7us/cchardet/setup.py'\"'\"';f=getattr(tokenize, '\"'\"'open'\"'\"', open)(__file__);code=f.read().replace('\"'\"'\\r\\n'\"'\"', '\"'\"'\\n'\"'\"');f.close();exec(compile(code, __file__, '\"'\"'exec'\"'\"'))' install --record /private/var/folders/z2/rk6k4xmn1hg327xm9s6lygfh0000gn/T/pip-record-igbekbr0/install-record.txt --single-version-externally-managed --compile\n",
      "         cwd: /private/var/folders/z2/rk6k4xmn1hg327xm9s6lygfh0000gn/T/pip-install-39jhz7us/cchardet/\n",
      "    Complete output (20 lines):\n",
      "    running install\n",
      "    running build\n",
      "    running build_py\n",
      "    creating build\n",
      "    creating build/lib.macosx-10.9-x86_64-3.7\n",
      "    creating build/lib.macosx-10.9-x86_64-3.7/cchardet\n",
      "    copying src/cchardet/version.py -> build/lib.macosx-10.9-x86_64-3.7/cchardet\n",
      "    copying src/cchardet/__init__.py -> build/lib.macosx-10.9-x86_64-3.7/cchardet\n",
      "    running build_ext\n",
      "    building 'cchardet._cchardet' extension\n",
      "    creating build/temp.macosx-10.9-x86_64-3.7\n",
      "    creating build/temp.macosx-10.9-x86_64-3.7/src\n",
      "    creating build/temp.macosx-10.9-x86_64-3.7/src/cchardet\n",
      "    creating build/temp.macosx-10.9-x86_64-3.7/src/ext\n",
      "    creating build/temp.macosx-10.9-x86_64-3.7/src/ext/uchardet\n",
      "    creating build/temp.macosx-10.9-x86_64-3.7/src/ext/uchardet/src\n",
      "    creating build/temp.macosx-10.9-x86_64-3.7/src/ext/uchardet/src/LangModels\n",
      "    gcc -Wno-unused-result -Wsign-compare -Wunreachable-code -DNDEBUG -g -fwrapv -O3 -Wall -I/Users/shaoqianchen/anaconda2/envs/python3/include -arch x86_64 -I/Users/shaoqianchen/anaconda2/envs/python3/include -arch x86_64 -Isrc/ext/uchardet/src -I/Users/shaoqianchen/anaconda2/envs/python3/include/python3.7m -c src/cchardet/_cchardet.cpp -o build/temp.macosx-10.9-x86_64-3.7/src/cchardet/_cchardet.o\n",
      "    xcrun: error: invalid active developer path (/Library/Developer/CommandLineTools), missing xcrun at: /Library/Developer/CommandLineTools/usr/bin/xcrun\n",
      "    error: command 'gcc' failed with exit status 1\n",
      "    ----------------------------------------\u001b[0m\n",
      "\u001b[31mERROR: Command errored out with exit status 1: /Users/shaoqianchen/anaconda2/envs/python3/bin/python -u -c 'import sys, setuptools, tokenize; sys.argv[0] = '\"'\"'/private/var/folders/z2/rk6k4xmn1hg327xm9s6lygfh0000gn/T/pip-install-39jhz7us/cchardet/setup.py'\"'\"'; __file__='\"'\"'/private/var/folders/z2/rk6k4xmn1hg327xm9s6lygfh0000gn/T/pip-install-39jhz7us/cchardet/setup.py'\"'\"';f=getattr(tokenize, '\"'\"'open'\"'\"', open)(__file__);code=f.read().replace('\"'\"'\\r\\n'\"'\"', '\"'\"'\\n'\"'\"');f.close();exec(compile(code, __file__, '\"'\"'exec'\"'\"'))' install --record /private/var/folders/z2/rk6k4xmn1hg327xm9s6lygfh0000gn/T/pip-record-igbekbr0/install-record.txt --single-version-externally-managed --compile Check the logs for full command output.\u001b[0m\n",
      "\u001b[?25hNote: you may need to restart the kernel to use updated packages.\n"
     ]
    }
   ],
   "source": [
    "pip install tableschema"
   ]
  },
  {
   "cell_type": "code",
   "execution_count": 1,
   "metadata": {},
   "outputs": [
    {
     "ename": "ModuleNotFoundError",
     "evalue": "No module named 'tableschema'",
     "output_type": "error",
     "traceback": [
      "\u001b[0;31m---------------------------------------------------------------------------\u001b[0m",
      "\u001b[0;31mModuleNotFoundError\u001b[0m                       Traceback (most recent call last)",
      "\u001b[0;32m<ipython-input-1-084d23ec8fa7>\u001b[0m in \u001b[0;36m<module>\u001b[0;34m\u001b[0m\n\u001b[0;32m----> 1\u001b[0;31m \u001b[0;32mfrom\u001b[0m \u001b[0mtableschema\u001b[0m \u001b[0;32mimport\u001b[0m \u001b[0mTable\u001b[0m\u001b[0;34m\u001b[0m\u001b[0;34m\u001b[0m\u001b[0m\n\u001b[0m",
      "\u001b[0;31mModuleNotFoundError\u001b[0m: No module named 'tableschema'"
     ]
    }
   ],
   "source": [
    "from tableschema import Table"
   ]
  },
  {
   "cell_type": "code",
   "execution_count": null,
   "metadata": {},
   "outputs": [],
   "source": []
  }
 ],
 "metadata": {
  "kernelspec": {
   "display_name": "Python 3",
   "language": "python",
   "name": "python3"
  },
  "language_info": {
   "codemirror_mode": {
    "name": "ipython",
    "version": 3
   },
   "file_extension": ".py",
   "mimetype": "text/x-python",
   "name": "python",
   "nbconvert_exporter": "python",
   "pygments_lexer": "ipython3",
   "version": "3.7.6"
  }
 },
 "nbformat": 4,
 "nbformat_minor": 2
}
