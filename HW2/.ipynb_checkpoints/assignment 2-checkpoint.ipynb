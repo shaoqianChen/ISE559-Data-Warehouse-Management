{
 "cells": [
  {
   "cell_type": "code",
   "execution_count": 1,
   "metadata": {},
   "outputs": [
    {
     "name": "stdout",
     "output_type": "stream",
     "text": [
      "Requirement already satisfied: selenium in /Users/shaoqianchen/anaconda2/envs/python3/lib/python3.7/site-packages (3.141.0)\r\n",
      "Requirement already satisfied: urllib3 in /Users/shaoqianchen/anaconda2/envs/python3/lib/python3.7/site-packages (from selenium) (1.25.8)\r\n"
     ]
    }
   ],
   "source": [
    "import csv\n",
    "! pip install selenium"
   ]
  },
  {
   "cell_type": "markdown",
   "metadata": {},
   "source": [
    "## Task 1"
   ]
  },
  {
   "cell_type": "code",
   "execution_count": 2,
   "metadata": {},
   "outputs": [],
   "source": [
    "from selenium.webdriver.common.keys import Keys\n",
    "keys=[97,98,99,100,101,102,103,104,105,106,107,108]\n",
    "def task1():\n",
    "    movie_dict = {}\n",
    "    with open('movies.csv') as csv_file:\n",
    "        csv_reader = csv.reader(csv_file, delimiter=',')\n",
    "        line_count = 0\n",
    "        for row in csv_reader:\n",
    "            if line_count !=0:\n",
    "                try:\n",
    "                    movie_dict[int(row[1])]\n",
    "                except:\n",
    "                    movie_dict[int(row[1])] = []\n",
    "                movie_dict[int(row[1])].append(int(row[2]))\n",
    "                line_count +=1\n",
    "            else:\n",
    "                line_count +=1\n",
    "                \n",
    "    for key in keys:\n",
    "        movie_dict[key] = round(sum(movie_dict[key]) /len(movie_dict[key]),1)\n",
    "        \n",
    "    movie_id= list(movie_dict.keys())\n",
    "    movie_id.sort()\n",
    "    rating = [movie_dict[key] for key in keys]\n",
    "    \n",
    "    with open('task1.csv', mode='w') as output_file:\n",
    "        task_writer = csv.writer(output_file, delimiter=',', quotechar='\"', quoting=csv.QUOTE_MINIMAL)\n",
    "        for i in range(len(keys)):\n",
    "            task_writer.writerow([movie_id[i],rating[i]])"
   ]
  },
  {
   "cell_type": "code",
   "execution_count": 3,
   "metadata": {},
   "outputs": [],
   "source": [
    "task1()"
   ]
  },
  {
   "cell_type": "markdown",
   "metadata": {},
   "source": [
    "## Task 2"
   ]
  },
  {
   "cell_type": "code",
   "execution_count": 4,
   "metadata": {},
   "outputs": [],
   "source": [
    "def task2():\n",
    "    movie_dict = {}\n",
    "    with open('movies.csv') as csv_file:\n",
    "        csv_reader = csv.reader(csv_file, delimiter=',')\n",
    "        line_count = 0\n",
    "        for row in csv_reader:\n",
    "            if line_count !=0:\n",
    "                try:\n",
    "                    movie_dict[int(row[1])]\n",
    "                except:\n",
    "                    movie_dict[int(row[1])] = []\n",
    "                movie_dict[int(row[1])].append(int(row[2]))\n",
    "                line_count +=1\n",
    "            else:\n",
    "                line_count +=1\n",
    "                \n",
    "    for key in keys:\n",
    "        movie_dict[key] = round(sum(movie_dict[key]) /len(movie_dict[key]),1)\n",
    "        \n",
    "    movie_id= list(movie_dict.keys())\n",
    "    movie_id.sort()\n",
    "    rating = [movie_dict[key] for key in keys]\n",
    "    \n",
    "    with open('task2.csv', mode='w') as output_file:\n",
    "        task_writer = csv.writer(output_file, delimiter=',', quotechar='\"', quoting=csv.QUOTE_MINIMAL)\n",
    "        task_writer.writerow(['movieID','avg_rating'])\n",
    "        for i in range(len(keys)):\n",
    "            task_writer.writerow([movie_id[i],rating[i]])"
   ]
  },
  {
   "cell_type": "code",
   "execution_count": 5,
   "metadata": {},
   "outputs": [],
   "source": [
    "task2()"
   ]
  },
  {
   "cell_type": "markdown",
   "metadata": {},
   "source": [
    "## Task 3"
   ]
  },
  {
   "cell_type": "code",
   "execution_count": 6,
   "metadata": {},
   "outputs": [],
   "source": [
    "import json\n",
    "def task3():\n",
    "    with open('movies.json', 'r') as j:\n",
    "            json_data = json.load(j)\n",
    "            j.close()\n",
    "\n",
    "    movie_dict = {}\n",
    "    for row in json_data['data']:\n",
    "        try:\n",
    "            movie_dict[int(row[1])]\n",
    "        except:\n",
    "            movie_dict[int(row[1])] = []\n",
    "        movie_dict[int(row[1])].append(int(row[2]))\n",
    "\n",
    "    for key in keys:\n",
    "            movie_dict[key] = round(sum(movie_dict[key]) /len(movie_dict[key]),1)\n",
    "\n",
    "    movie_id= list(movie_dict.keys())\n",
    "    movie_id.sort()\n",
    "    rating = [movie_dict[key] for key in keys]\n",
    "\n",
    "    metadata={}\n",
    "\n",
    "    metadata['info'] = {\n",
    "        'author': 'Weikang Wan',\n",
    "        'organization': 'USC',\n",
    "        'creation_date': '02/18/2020'\n",
    "    }\n",
    "    metadata['columns'] = json_data['metadata']['columns']\n",
    "    metadata['data'] = list(map(list,zip(movie_id, rating)))\n",
    "\n",
    "    with open('task3.json', 'w') as outfile:\n",
    "            json.dump(metadata, outfile, indent=4)\n",
    "    outfile.close()"
   ]
  },
  {
   "cell_type": "code",
   "execution_count": 7,
   "metadata": {},
   "outputs": [],
   "source": [
    "task3()"
   ]
  },
  {
   "cell_type": "markdown",
   "metadata": {},
   "source": [
    "## Task4"
   ]
  },
  {
   "cell_type": "code",
   "execution_count": 8,
   "metadata": {},
   "outputs": [],
   "source": [
    "def task4():\n",
    "    with open('task3.json', 'r') as j:\n",
    "            json_data = json.load(j)\n",
    "            j.close()\n",
    "\n",
    "    with open('task4.csv', mode='w') as output_file:\n",
    "            task_writer = csv.writer(output_file, delimiter=',', quotechar='\"', quoting=csv.QUOTE_MINIMAL)\n",
    "\n",
    "            task_writer.writerow(['author','organization', 'creation_date'])\n",
    "            task_writer.writerow([json_data['info']['author'] ,\n",
    "                                  json_data['info']['organization'], \n",
    "                                  json_data['info']['creation_date']])\n",
    "            task_writer.writerow([''])\n",
    "            task_writer.writerow(['movieID','avg_rating'])\n",
    "            for i in range(len(json_data['data'])):\n",
    "                task_writer.writerow([json_data['data'][i][0], json_data['data'][i][1]])"
   ]
  },
  {
   "cell_type": "code",
   "execution_count": 9,
   "metadata": {},
   "outputs": [],
   "source": [
    "task4()"
   ]
  },
  {
   "cell_type": "code",
   "execution_count": 10,
   "metadata": {},
   "outputs": [
    {
     "name": "stdout",
     "output_type": "stream",
     "text": [
      "author,organization,creation_date\n",
      "Weikang Wan,USC,02/18/2020\n",
      "\n",
      "movieID,avg_rating\n",
      "97,2.5\n",
      "98,2.8\n",
      "99,2.1\n",
      "100,3.2\n",
      "101,3.7\n",
      "102,3.4\n",
      "103,4.0\n",
      "104,3.0\n",
      "105,2.3\n",
      "106,4.0\n",
      "107,1.0\n",
      "108,4.0\n"
     ]
    }
   ],
   "source": [
    "with open('task4.csv') as csv_file:\n",
    "    csv_reader = csv.reader(csv_file, delimiter=',')\n",
    "    for row in csv_reader:\n",
    "        print(\",\".join(row))\n"
   ]
  },
  {
   "cell_type": "markdown",
   "metadata": {},
   "source": [
    "## Task5"
   ]
  },
  {
   "cell_type": "code",
   "execution_count": 11,
   "metadata": {},
   "outputs": [
    {
     "name": "stdout",
     "output_type": "stream",
     "text": [
      "Collecting tableschema\n",
      "  Using cached https://files.pythonhosted.org/packages/e3/b3/d61a2a9b174c2f436215ab6f1ef7748e2c6cd65d55d43f5bb55641a0971e/tableschema-1.13.1-py2.py3-none-any.whl\n",
      "Requirement already satisfied: requests>=2.5 in /Users/shaoqianchen/anaconda2/envs/python3/lib/python3.7/site-packages (from tableschema) (2.23.0)\n",
      "Requirement already satisfied: rfc3986>=1.1.0 in /Users/shaoqianchen/anaconda2/envs/python3/lib/python3.7/site-packages (from tableschema) (1.3.2)\n",
      "Requirement already satisfied: unicodecsv>=0.14 in /Users/shaoqianchen/anaconda2/envs/python3/lib/python3.7/site-packages (from tableschema) (0.14.1)\n",
      "Requirement already satisfied: jsonschema>=2.5 in /Users/shaoqianchen/anaconda2/envs/python3/lib/python3.7/site-packages (from tableschema) (3.2.0)\n",
      "Requirement already satisfied: click>=3.3 in /Users/shaoqianchen/anaconda2/envs/python3/lib/python3.7/site-packages (from tableschema) (7.0)\n",
      "Requirement already satisfied: isodate>=0.5.4 in /Users/shaoqianchen/anaconda2/envs/python3/lib/python3.7/site-packages (from tableschema) (0.6.0)\n",
      "Requirement already satisfied: six>=1.9 in /Users/shaoqianchen/anaconda2/envs/python3/lib/python3.7/site-packages (from tableschema) (1.13.0)\n",
      "Requirement already satisfied: python-dateutil>=2.4 in /Users/shaoqianchen/anaconda2/envs/python3/lib/python3.7/site-packages (from tableschema) (2.8.1)\n",
      "Collecting tabulator>=1.29\n",
      "  Using cached https://files.pythonhosted.org/packages/90/b8/cee80f750f2c87194ed8a587d56cf0cefc2cd097cb17c8866c5719187fb6/tabulator-1.35.0-py2.py3-none-any.whl\n",
      "Requirement already satisfied: certifi>=2017.4.17 in /Users/shaoqianchen/anaconda2/envs/python3/lib/python3.7/site-packages (from requests>=2.5->tableschema) (2019.11.28)\n",
      "Requirement already satisfied: idna<3,>=2.5 in /Users/shaoqianchen/anaconda2/envs/python3/lib/python3.7/site-packages (from requests>=2.5->tableschema) (2.9)\n",
      "Requirement already satisfied: chardet<4,>=3.0.2 in /Users/shaoqianchen/anaconda2/envs/python3/lib/python3.7/site-packages (from requests>=2.5->tableschema) (3.0.4)\n",
      "Requirement already satisfied: urllib3!=1.25.0,!=1.25.1,<1.26,>=1.21.1 in /Users/shaoqianchen/anaconda2/envs/python3/lib/python3.7/site-packages (from requests>=2.5->tableschema) (1.25.8)\n",
      "Requirement already satisfied: pyrsistent>=0.14.0 in /Users/shaoqianchen/anaconda2/envs/python3/lib/python3.7/site-packages (from jsonschema>=2.5->tableschema) (0.15.6)\n",
      "Requirement already satisfied: setuptools in /Users/shaoqianchen/anaconda2/envs/python3/lib/python3.7/site-packages (from jsonschema>=2.5->tableschema) (44.0.0.post20200106)\n",
      "Requirement already satisfied: importlib-metadata; python_version < \"3.8\" in /Users/shaoqianchen/anaconda2/envs/python3/lib/python3.7/site-packages (from jsonschema>=2.5->tableschema) (1.3.0)\n",
      "Requirement already satisfied: attrs>=17.4.0 in /Users/shaoqianchen/anaconda2/envs/python3/lib/python3.7/site-packages (from jsonschema>=2.5->tableschema) (19.3.0)\n",
      "Requirement already satisfied: boto3>=1.9 in /Users/shaoqianchen/anaconda2/envs/python3/lib/python3.7/site-packages (from tabulator>=1.29->tableschema) (1.12.7)\n",
      "Requirement already satisfied: linear-tsv>=1.0 in /Users/shaoqianchen/anaconda2/envs/python3/lib/python3.7/site-packages (from tabulator>=1.29->tableschema) (1.1.0)\n",
      "Collecting cchardet>=1.0\n",
      "  Using cached https://files.pythonhosted.org/packages/73/25/73649708a30aa97124631bd088a22f1bf721d05d4e72fb9cc9bedb97de51/cchardet-2.1.5.tar.gz\n",
      "Collecting ijson>=2.5\n",
      "  Using cached https://files.pythonhosted.org/packages/fc/d8/8966b7f32166e04a336a35a49867b39e45f92e3d34849b5f4a3aa3a3b4ce/ijson-2.6.1-cp37-cp37m-macosx_10_6_x86_64.whl\n",
      "Requirement already satisfied: openpyxl>=2.6 in /Users/shaoqianchen/anaconda2/envs/python3/lib/python3.7/site-packages (from tabulator>=1.29->tableschema) (3.0.3)\n",
      "Requirement already satisfied: xlrd>=1.0 in /Users/shaoqianchen/anaconda2/envs/python3/lib/python3.7/site-packages (from tabulator>=1.29->tableschema) (1.2.0)\n",
      "Processing /Users/shaoqianchen/Library/Caches/pip/wheels/b3/35/98/4c9cb3fd63d21d5606b972dd70643769745adf60e622467b71/SQLAlchemy-1.3.13-cp37-cp37m-macosx_10_9_x86_64.whl\n",
      "Requirement already satisfied: jsonlines>=1.1 in /Users/shaoqianchen/anaconda2/envs/python3/lib/python3.7/site-packages (from tabulator>=1.29->tableschema) (1.2.0)\n",
      "Requirement already satisfied: zipp>=0.5 in /Users/shaoqianchen/anaconda2/envs/python3/lib/python3.7/site-packages (from importlib-metadata; python_version < \"3.8\"->jsonschema>=2.5->tableschema) (0.6.0)\n",
      "Requirement already satisfied: jmespath<1.0.0,>=0.7.1 in /Users/shaoqianchen/anaconda2/envs/python3/lib/python3.7/site-packages (from boto3>=1.9->tabulator>=1.29->tableschema) (0.9.5)\n",
      "Requirement already satisfied: botocore<1.16.0,>=1.15.7 in /Users/shaoqianchen/anaconda2/envs/python3/lib/python3.7/site-packages (from boto3>=1.9->tabulator>=1.29->tableschema) (1.15.7)\n",
      "Requirement already satisfied: s3transfer<0.4.0,>=0.3.0 in /Users/shaoqianchen/anaconda2/envs/python3/lib/python3.7/site-packages (from boto3>=1.9->tabulator>=1.29->tableschema) (0.3.3)\n",
      "Requirement already satisfied: jdcal in /Users/shaoqianchen/anaconda2/envs/python3/lib/python3.7/site-packages (from openpyxl>=2.6->tabulator>=1.29->tableschema) (1.4.1)\n",
      "Requirement already satisfied: et-xmlfile in /Users/shaoqianchen/anaconda2/envs/python3/lib/python3.7/site-packages (from openpyxl>=2.6->tabulator>=1.29->tableschema) (1.0.1)\n",
      "Requirement already satisfied: more-itertools in /Users/shaoqianchen/anaconda2/envs/python3/lib/python3.7/site-packages (from zipp>=0.5->importlib-metadata; python_version < \"3.8\"->jsonschema>=2.5->tableschema) (8.0.2)\n",
      "Requirement already satisfied: docutils<0.16,>=0.10 in /Users/shaoqianchen/anaconda2/envs/python3/lib/python3.7/site-packages (from botocore<1.16.0,>=1.15.7->boto3>=1.9->tabulator>=1.29->tableschema) (0.15.2)\n",
      "Building wheels for collected packages: cchardet\n",
      "  Building wheel for cchardet (setup.py) ... \u001b[?25lerror\n",
      "\u001b[31m  ERROR: Command errored out with exit status 1:\n",
      "   command: /Users/shaoqianchen/anaconda2/envs/python3/bin/python -u -c 'import sys, setuptools, tokenize; sys.argv[0] = '\"'\"'/private/var/folders/z2/rk6k4xmn1hg327xm9s6lygfh0000gn/T/pip-install-w_5qq5st/cchardet/setup.py'\"'\"'; __file__='\"'\"'/private/var/folders/z2/rk6k4xmn1hg327xm9s6lygfh0000gn/T/pip-install-w_5qq5st/cchardet/setup.py'\"'\"';f=getattr(tokenize, '\"'\"'open'\"'\"', open)(__file__);code=f.read().replace('\"'\"'\\r\\n'\"'\"', '\"'\"'\\n'\"'\"');f.close();exec(compile(code, __file__, '\"'\"'exec'\"'\"'))' bdist_wheel -d /private/var/folders/z2/rk6k4xmn1hg327xm9s6lygfh0000gn/T/pip-wheel-4i6yq7pf --python-tag cp37\n",
      "       cwd: /private/var/folders/z2/rk6k4xmn1hg327xm9s6lygfh0000gn/T/pip-install-w_5qq5st/cchardet/\n",
      "  Complete output (20 lines):\n",
      "  running bdist_wheel\n",
      "  running build\n",
      "  running build_py\n",
      "  creating build\n",
      "  creating build/lib.macosx-10.9-x86_64-3.7\n",
      "  creating build/lib.macosx-10.9-x86_64-3.7/cchardet\n",
      "  copying src/cchardet/version.py -> build/lib.macosx-10.9-x86_64-3.7/cchardet\n",
      "  copying src/cchardet/__init__.py -> build/lib.macosx-10.9-x86_64-3.7/cchardet\n",
      "  running build_ext\n",
      "  building 'cchardet._cchardet' extension\n",
      "  creating build/temp.macosx-10.9-x86_64-3.7\n",
      "  creating build/temp.macosx-10.9-x86_64-3.7/src\n",
      "  creating build/temp.macosx-10.9-x86_64-3.7/src/cchardet\n",
      "  creating build/temp.macosx-10.9-x86_64-3.7/src/ext\n",
      "  creating build/temp.macosx-10.9-x86_64-3.7/src/ext/uchardet\n",
      "  creating build/temp.macosx-10.9-x86_64-3.7/src/ext/uchardet/src\n",
      "  creating build/temp.macosx-10.9-x86_64-3.7/src/ext/uchardet/src/LangModels\n",
      "  gcc -Wno-unused-result -Wsign-compare -Wunreachable-code -DNDEBUG -g -fwrapv -O3 -Wall -I/Users/shaoqianchen/anaconda2/envs/python3/include -arch x86_64 -I/Users/shaoqianchen/anaconda2/envs/python3/include -arch x86_64 -Isrc/ext/uchardet/src -I/Users/shaoqianchen/anaconda2/envs/python3/include/python3.7m -c src/cchardet/_cchardet.cpp -o build/temp.macosx-10.9-x86_64-3.7/src/cchardet/_cchardet.o\n",
      "  xcrun: error: invalid active developer path (/Library/Developer/CommandLineTools), missing xcrun at: /Library/Developer/CommandLineTools/usr/bin/xcrun\n",
      "  error: command 'gcc' failed with exit status 1\n",
      "  ----------------------------------------\u001b[0m\n",
      "\u001b[31m  ERROR: Failed building wheel for cchardet\u001b[0m\n",
      "\u001b[?25h  Running setup.py clean for cchardet\n"
     ]
    },
    {
     "name": "stdout",
     "output_type": "stream",
     "text": [
      "Failed to build cchardet\n",
      "Installing collected packages: cchardet, ijson, sqlalchemy, tabulator, tableschema\n",
      "    Running setup.py install for cchardet ... \u001b[?25lerror\n",
      "\u001b[31m    ERROR: Command errored out with exit status 1:\n",
      "     command: /Users/shaoqianchen/anaconda2/envs/python3/bin/python -u -c 'import sys, setuptools, tokenize; sys.argv[0] = '\"'\"'/private/var/folders/z2/rk6k4xmn1hg327xm9s6lygfh0000gn/T/pip-install-w_5qq5st/cchardet/setup.py'\"'\"'; __file__='\"'\"'/private/var/folders/z2/rk6k4xmn1hg327xm9s6lygfh0000gn/T/pip-install-w_5qq5st/cchardet/setup.py'\"'\"';f=getattr(tokenize, '\"'\"'open'\"'\"', open)(__file__);code=f.read().replace('\"'\"'\\r\\n'\"'\"', '\"'\"'\\n'\"'\"');f.close();exec(compile(code, __file__, '\"'\"'exec'\"'\"'))' install --record /private/var/folders/z2/rk6k4xmn1hg327xm9s6lygfh0000gn/T/pip-record-u98tuxv7/install-record.txt --single-version-externally-managed --compile\n",
      "         cwd: /private/var/folders/z2/rk6k4xmn1hg327xm9s6lygfh0000gn/T/pip-install-w_5qq5st/cchardet/\n",
      "    Complete output (20 lines):\n",
      "    running install\n",
      "    running build\n",
      "    running build_py\n",
      "    creating build\n",
      "    creating build/lib.macosx-10.9-x86_64-3.7\n",
      "    creating build/lib.macosx-10.9-x86_64-3.7/cchardet\n",
      "    copying src/cchardet/version.py -> build/lib.macosx-10.9-x86_64-3.7/cchardet\n",
      "    copying src/cchardet/__init__.py -> build/lib.macosx-10.9-x86_64-3.7/cchardet\n",
      "    running build_ext\n",
      "    building 'cchardet._cchardet' extension\n",
      "    creating build/temp.macosx-10.9-x86_64-3.7\n",
      "    creating build/temp.macosx-10.9-x86_64-3.7/src\n",
      "    creating build/temp.macosx-10.9-x86_64-3.7/src/cchardet\n",
      "    creating build/temp.macosx-10.9-x86_64-3.7/src/ext\n",
      "    creating build/temp.macosx-10.9-x86_64-3.7/src/ext/uchardet\n",
      "    creating build/temp.macosx-10.9-x86_64-3.7/src/ext/uchardet/src\n",
      "    creating build/temp.macosx-10.9-x86_64-3.7/src/ext/uchardet/src/LangModels\n",
      "    gcc -Wno-unused-result -Wsign-compare -Wunreachable-code -DNDEBUG -g -fwrapv -O3 -Wall -I/Users/shaoqianchen/anaconda2/envs/python3/include -arch x86_64 -I/Users/shaoqianchen/anaconda2/envs/python3/include -arch x86_64 -Isrc/ext/uchardet/src -I/Users/shaoqianchen/anaconda2/envs/python3/include/python3.7m -c src/cchardet/_cchardet.cpp -o build/temp.macosx-10.9-x86_64-3.7/src/cchardet/_cchardet.o\n",
      "    xcrun: error: invalid active developer path (/Library/Developer/CommandLineTools), missing xcrun at: /Library/Developer/CommandLineTools/usr/bin/xcrun\n",
      "    error: command 'gcc' failed with exit status 1\n",
      "    ----------------------------------------\u001b[0m\n",
      "\u001b[31mERROR: Command errored out with exit status 1: /Users/shaoqianchen/anaconda2/envs/python3/bin/python -u -c 'import sys, setuptools, tokenize; sys.argv[0] = '\"'\"'/private/var/folders/z2/rk6k4xmn1hg327xm9s6lygfh0000gn/T/pip-install-w_5qq5st/cchardet/setup.py'\"'\"'; __file__='\"'\"'/private/var/folders/z2/rk6k4xmn1hg327xm9s6lygfh0000gn/T/pip-install-w_5qq5st/cchardet/setup.py'\"'\"';f=getattr(tokenize, '\"'\"'open'\"'\"', open)(__file__);code=f.read().replace('\"'\"'\\r\\n'\"'\"', '\"'\"'\\n'\"'\"');f.close();exec(compile(code, __file__, '\"'\"'exec'\"'\"'))' install --record /private/var/folders/z2/rk6k4xmn1hg327xm9s6lygfh0000gn/T/pip-record-u98tuxv7/install-record.txt --single-version-externally-managed --compile Check the logs for full command output.\u001b[0m\n",
      "\u001b[?25h"
     ]
    }
   ],
   "source": [
    "!pip install tableschema"
   ]
  },
  {
   "cell_type": "code",
   "execution_count": 12,
   "metadata": {
    "scrolled": true
   },
   "outputs": [],
   "source": [
    "\n",
    "import tableschema\n",
    "def task5():\n",
    "    from tableschema import Table\n",
    "\n",
    "    table = Table('movies.csv')\n",
    "    table.read(keyed=True)\n",
    "\n",
    "    table.infer()\n",
    "    table.schema.descriptor\n",
    "\n",
    "    table.schema.descriptor['missingValues'] = 'N/A'\n",
    "    table.schema.commit()\n",
    "    table.schema.valid \n",
    "    table.schema.errors\n",
    "\n",
    "    table.schema.descriptor['missingValues'] = ['', 'N/A']\n",
    "    table.schema.commit()\n",
    "    table.schema.valid \n",
    "\n",
    "    table.read(keyed=True)\n",
    "\n",
    "    table.schema.save('schema.json')"
   ]
  },
  {
   "cell_type": "code",
   "execution_count": 13,
   "metadata": {},
   "outputs": [
    {
     "ename": "ModuleNotFoundError",
     "evalue": "No module named 'tableschema'",
     "output_type": "error",
     "traceback": [
      "\u001b[0;31m---------------------------------------------------------------------------\u001b[0m",
      "\u001b[0;31mModuleNotFoundError\u001b[0m                       Traceback (most recent call last)",
      "\u001b[0;32m<ipython-input-13-a0d5f15f9f69>\u001b[0m in \u001b[0;36m<module>\u001b[0;34m\u001b[0m\n\u001b[0;32m----> 1\u001b[0;31m \u001b[0mtask5\u001b[0m\u001b[0;34m(\u001b[0m\u001b[0;34m)\u001b[0m\u001b[0;34m\u001b[0m\u001b[0;34m\u001b[0m\u001b[0m\n\u001b[0m",
      "\u001b[0;32m<ipython-input-12-2a07677381dd>\u001b[0m in \u001b[0;36mtask5\u001b[0;34m()\u001b[0m\n\u001b[1;32m      1\u001b[0m \u001b[0;32mdef\u001b[0m \u001b[0mtask5\u001b[0m\u001b[0;34m(\u001b[0m\u001b[0;34m)\u001b[0m\u001b[0;34m:\u001b[0m\u001b[0;34m\u001b[0m\u001b[0;34m\u001b[0m\u001b[0m\n\u001b[0;32m----> 2\u001b[0;31m     \u001b[0;32mfrom\u001b[0m \u001b[0mtableschema\u001b[0m \u001b[0;32mimport\u001b[0m \u001b[0mTable\u001b[0m\u001b[0;34m\u001b[0m\u001b[0;34m\u001b[0m\u001b[0m\n\u001b[0m\u001b[1;32m      3\u001b[0m \u001b[0;34m\u001b[0m\u001b[0m\n\u001b[1;32m      4\u001b[0m     \u001b[0mtable\u001b[0m \u001b[0;34m=\u001b[0m \u001b[0mTable\u001b[0m\u001b[0;34m(\u001b[0m\u001b[0;34m'movies.csv'\u001b[0m\u001b[0;34m)\u001b[0m\u001b[0;34m\u001b[0m\u001b[0;34m\u001b[0m\u001b[0m\n\u001b[1;32m      5\u001b[0m     \u001b[0mtable\u001b[0m\u001b[0;34m.\u001b[0m\u001b[0mread\u001b[0m\u001b[0;34m(\u001b[0m\u001b[0mkeyed\u001b[0m\u001b[0;34m=\u001b[0m\u001b[0;32mTrue\u001b[0m\u001b[0;34m)\u001b[0m\u001b[0;34m\u001b[0m\u001b[0;34m\u001b[0m\u001b[0m\n",
      "\u001b[0;31mModuleNotFoundError\u001b[0m: No module named 'tableschema'"
     ]
    }
   ],
   "source": [
    "task5()"
   ]
  },
  {
   "cell_type": "code",
   "execution_count": null,
   "metadata": {},
   "outputs": [],
   "source": []
  }
 ],
 "metadata": {
  "kernelspec": {
   "display_name": "Python 3",
   "language": "python",
   "name": "python3"
  },
  "language_info": {
   "codemirror_mode": {
    "name": "ipython",
    "version": 3
   },
   "file_extension": ".py",
   "mimetype": "text/x-python",
   "name": "python",
   "nbconvert_exporter": "python",
   "pygments_lexer": "ipython3",
   "version": "3.7.6"
  }
 },
 "nbformat": 4,
 "nbformat_minor": 2
}
