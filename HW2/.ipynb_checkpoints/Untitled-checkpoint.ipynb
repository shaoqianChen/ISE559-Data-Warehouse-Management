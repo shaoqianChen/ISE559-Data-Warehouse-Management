{
 "cells": [
  {
   "cell_type": "code",
   "execution_count": 1,
   "metadata": {},
   "outputs": [],
   "source": [
    "import csv\n",
    "import json"
   ]
  },
  {
   "cell_type": "code",
   "execution_count": 2,
   "metadata": {},
   "outputs": [],
   "source": [
    "def task1(inputfile,outputfile):\n",
    "    csv1 = csv.reader(open(inputfile,\"rt\"))\n",
    "    sort = list(csv1)\n",
    "    biglist = [[],[],[],[],[],[],[],[],[],[],[],[]]\n",
    "    for i in range(1,len(sort)):\n",
    "      if (sort[i][1]==\"108\"):\n",
    "        biglist[11].append(int(sort[i][2]))\n",
    "      if (sort[i][1]==\"107\"):\n",
    "        biglist[10].append(int(sort[i][2]))\n",
    "      if (sort[i][1]==\"106\"):\n",
    "        biglist[9].append(int(sort[i][2]))\n",
    "      if (sort[i][1]==\"105\"):\n",
    "        biglist[8].append(int(sort[i][2]))\n",
    "      if (sort[i][1]==\"104\"):\n",
    "        biglist[7].append(int(sort[i][2]))\n",
    "      if (sort[i][1]==\"103\"):\n",
    "        biglist[6].append(int(sort[i][2]))\n",
    "      if (sort[i][1]==\"102\"):\n",
    "        biglist[5].append(int(sort[i][2]))\n",
    "      if (sort[i][1]==\"101\"):\n",
    "        biglist[4].append(int(sort[i][2]))\n",
    "      if (sort[i][1]==\"100\"):\n",
    "        biglist[3].append(int(sort[i][2]))\n",
    "      if (sort[i][1]==\"99\"):\n",
    "        biglist[2].append(int(sort[i][2]))\n",
    "      if (sort[i][1]==\"98\"):\n",
    "        biglist[1].append(int(sort[i][2]))\n",
    "      if (sort[i][1]==\"97\"):\n",
    "        biglist[0].append(int(sort[i][2]))\n",
    "    tasklist = []\n",
    "    for j in biglist:\n",
    "      if len(j)==0:\n",
    "        tasklist.append(0)\n",
    "      else:\n",
    "        tasklist.append(round(sum(j)/len(j),1))  \n",
    "    movieID = [97,98,99,100,101,102,103,104,105,106,107,108]\n",
    "    \n",
    "    with open(outputfile, 'w', newline='') as file:\n",
    "        writer = csv.writer(file)\n",
    "        for i in range(len(tasklist)):\n",
    "          writer.writerow([movieID[i],tasklist[i]])"
   ]
  },
  {
   "cell_type": "code",
   "execution_count": 3,
   "metadata": {},
   "outputs": [],
   "source": [
    "task1(\"movies.csv\",\"task1.csv\")"
   ]
  },
  {
   "cell_type": "raw",
   "metadata": {},
   "source": []
  },
  {
   "cell_type": "code",
   "execution_count": 4,
   "metadata": {},
   "outputs": [],
   "source": [
    "def task2(inputfile,outputfile):\n",
    "    csv1 = csv.reader(open(inputfile,\"rt\"))\n",
    "    sort = list(csv1)\n",
    "    biglist = [[],[],[],[],[],[],[],[],[],[],[],[]]\n",
    "    for i in range(1,len(sort)):\n",
    "      if (sort[i][1]==\"108\"):\n",
    "        biglist[11].append(int(sort[i][2]))\n",
    "      if (sort[i][1]==\"107\"):\n",
    "        biglist[10].append(int(sort[i][2]))\n",
    "      if (sort[i][1]==\"106\"):\n",
    "        biglist[9].append(int(sort[i][2]))\n",
    "      if (sort[i][1]==\"105\"):\n",
    "        biglist[8].append(int(sort[i][2]))\n",
    "      if (sort[i][1]==\"104\"):\n",
    "        biglist[7].append(int(sort[i][2]))\n",
    "      if (sort[i][1]==\"103\"):\n",
    "        biglist[6].append(int(sort[i][2]))\n",
    "      if (sort[i][1]==\"102\"):\n",
    "        biglist[5].append(int(sort[i][2]))\n",
    "      if (sort[i][1]==\"101\"):\n",
    "        biglist[4].append(int(sort[i][2]))\n",
    "      if (sort[i][1]==\"100\"):\n",
    "        biglist[3].append(int(sort[i][2]))\n",
    "      if (sort[i][1]==\"99\"):\n",
    "        biglist[2].append(int(sort[i][2]))\n",
    "      if (sort[i][1]==\"98\"):\n",
    "        biglist[1].append(int(sort[i][2]))\n",
    "      if (sort[i][1]==\"97\"):\n",
    "        biglist[0].append(int(sort[i][2]))\n",
    "    tasklist = []\n",
    "    for j in biglist:\n",
    "      if len(j)==0:\n",
    "        tasklist.append(0)\n",
    "      else:\n",
    "        tasklist.append(round(sum(j)/len(j),1))  \n",
    "    movieID = [97,98,99,100,101,102,103,104,105,106,107,108]\n",
    "    \n",
    "    with open(outputfile, 'w', newline='') as file:\n",
    "        writer = csv.writer(file)\n",
    "        writer.writerow([\"movieID\",\"avg_rating\"])\n",
    "        for i in range(len(tasklist)):\n",
    "          writer.writerow([movieID[i],tasklist[i]])"
   ]
  },
  {
   "cell_type": "code",
   "execution_count": 5,
   "metadata": {},
   "outputs": [],
   "source": [
    "task2(\"movies.csv\",\"task2.csv\")"
   ]
  },
  {
   "cell_type": "code",
   "execution_count": null,
   "metadata": {},
   "outputs": [],
   "source": []
  },
  {
   "cell_type": "code",
   "execution_count": null,
   "metadata": {},
   "outputs": [],
   "source": []
  },
  {
   "cell_type": "code",
   "execution_count": null,
   "metadata": {},
   "outputs": [],
   "source": []
  },
  {
   "cell_type": "code",
   "execution_count": 6,
   "metadata": {},
   "outputs": [],
   "source": [
    "import json"
   ]
  },
  {
   "cell_type": "code",
   "execution_count": 7,
   "metadata": {},
   "outputs": [],
   "source": [
    "def task3(jsoninput,jsonoutput):\n",
    "    with open(jsoninput) as f:\n",
    "        data = json.load(f)\n",
    "    biglist3 = [[],[],[],[],[],[],[],[],[],[],[],[]]\n",
    "    for i in range(len(data[\"data\"])):\n",
    "      if (data[\"data\"][i][1]==108):\n",
    "        biglist3[11].append(int(data[\"data\"][i][2]))\n",
    "      if (data[\"data\"][i][1]==107):\n",
    "        biglist3[10].append(int(data[\"data\"][i][2]))\n",
    "      if (data[\"data\"][i][1]==106):\n",
    "        biglist3[9].append(int(data[\"data\"][i][2]))\n",
    "      if (data[\"data\"][i][1]==105):\n",
    "        biglist3[8].append(int(data[\"data\"][i][2]))\n",
    "      if (data[\"data\"][i][1]==104):\n",
    "        biglist3[7].append(int(data[\"data\"][i][2]))\n",
    "      if (data[\"data\"][i][1]==103):\n",
    "        biglist3[6].append(int(data[\"data\"][i][2]))\n",
    "      if (data[\"data\"][i][1]==102):\n",
    "        biglist3[5].append(int(data[\"data\"][i][2]))\n",
    "      if (data[\"data\"][i][1]==101):\n",
    "        biglist3[4].append(int(data[\"data\"][i][2]))\n",
    "      if (data[\"data\"][i][1]==100):\n",
    "        biglist3[3].append(int(data[\"data\"][i][2]))\n",
    "      if (data[\"data\"][i][1]==99):\n",
    "        biglist3[2].append(int(data[\"data\"][i][2]))\n",
    "      if (data[\"data\"][i][1]==98):\n",
    "        biglist3[1].append(int(data[\"data\"][i][2]))\n",
    "      if (data[\"data\"][i][1]==97):\n",
    "        biglist3[0].append(int(data[\"data\"][i][2]))\n",
    "    tasklist3 = []\n",
    "    for j in biglist3:\n",
    "      if len(j)==0:\n",
    "        tasklist3.append(0)\n",
    "      else:\n",
    "        tasklist3.append(round(sum(j)/len(j),1))  \n",
    "    movieID = [97,98,99,100,101,102,103,104,105,106,107,108]\n",
    "    a = {\"metadata\":{\"info\":{\"author\": \"Shaoqian Chen\", \"organization\": \"USC\", \"creation_date\": \"02/24/2020\"},\"columns\":{\"movieID\":\"movie id for the movies\",\"avg_rating\":\"avg rating given to the movies\",}},\"data\":[[k,v]for k, v in zip(movieID, tasklist3)]}\n",
    "    with open('task3.json', 'w') as json_file:\n",
    "      json.dump(a,json_file,indent=4)"
   ]
  },
  {
   "cell_type": "code",
   "execution_count": 8,
   "metadata": {},
   "outputs": [],
   "source": [
    "task3(\"movies.json\",\"task3.json\")"
   ]
  },
  {
   "cell_type": "code",
   "execution_count": null,
   "metadata": {},
   "outputs": [],
   "source": []
  },
  {
   "cell_type": "code",
   "execution_count": null,
   "metadata": {},
   "outputs": [],
   "source": []
  },
  {
   "cell_type": "code",
   "execution_count": null,
   "metadata": {},
   "outputs": [],
   "source": []
  },
  {
   "cell_type": "code",
   "execution_count": null,
   "metadata": {},
   "outputs": [],
   "source": []
  },
  {
   "cell_type": "code",
   "execution_count": 9,
   "metadata": {},
   "outputs": [],
   "source": [
    "def task4(inputjson,outputcsv):\n",
    "    with open(inputjson) as f:\n",
    "        data = json.load(f)\n",
    "        \n",
    "    with open(outputcsv, 'w', newline='') as file:\n",
    "        writer = csv.writer(file)\n",
    "        writer.writerow([\"author\",\"organization\",\"creation_date\"])\n",
    "        writer.writerow([data[\"metadata\"][\"info\"][\"author\"],data[\"metadata\"][\"info\"][\"organization\"],data[\"metadata\"][\"info\"][\"creation_date\"]])\n",
    "        writer.writerow([' '])\n",
    "        writer.writerow(['movieID',\"avg_rating\"])\n",
    "        for i in range(len(data[\"data\"])):\n",
    "          writer.writerow([data[\"data\"][i][0],data[\"data\"][i][1]])"
   ]
  },
  {
   "cell_type": "code",
   "execution_count": 10,
   "metadata": {},
   "outputs": [],
   "source": [
    "task4(\"task3.json\",\"task4.csv\")"
   ]
  },
  {
   "cell_type": "code",
   "execution_count": 11,
   "metadata": {},
   "outputs": [],
   "source": [
    "#Extra Credit"
   ]
  },
  {
   "cell_type": "code",
   "execution_count": 12,
   "metadata": {},
   "outputs": [
    {
     "name": "stdout",
     "output_type": "stream",
     "text": [
      "['author', 'organization', 'creation_date']\n",
      "['Shaoqian Chen', 'USC', '02/24/2020']\n",
      "[' ']\n",
      "['movieID', 'avg_rating']\n",
      "['97', '2.5']\n",
      "['98', '2.8']\n",
      "['99', '2.1']\n",
      "['100', '3.2']\n",
      "['101', '3.7']\n",
      "['102', '3.4']\n",
      "['103', '4.0']\n",
      "['104', '3.0']\n",
      "['105', '2.3']\n",
      "['106', '4.0']\n",
      "['107', '1.0']\n",
      "['108', '4.0']\n"
     ]
    }
   ],
   "source": [
    "with open(\"task4.csv\",\"r\") as f:\n",
    "    dt = csv.reader(f)\n",
    "    for row in dt:\n",
    "        print(row)"
   ]
  },
  {
   "cell_type": "code",
   "execution_count": null,
   "metadata": {},
   "outputs": [],
   "source": []
  },
  {
   "cell_type": "code",
   "execution_count": 13,
   "metadata": {},
   "outputs": [],
   "source": [
    "#pip install tableschema"
   ]
  },
  {
   "cell_type": "code",
   "execution_count": 14,
   "metadata": {},
   "outputs": [
    {
     "ename": "ModuleNotFoundError",
     "evalue": "No module named 'tableschema'",
     "output_type": "error",
     "traceback": [
      "\u001b[0;31m---------------------------------------------------------------------------\u001b[0m",
      "\u001b[0;31mModuleNotFoundError\u001b[0m                       Traceback (most recent call last)",
      "\u001b[0;32m<ipython-input-14-9977b929a39f>\u001b[0m in \u001b[0;36m<module>\u001b[0;34m\u001b[0m\n\u001b[0;32m----> 1\u001b[0;31m \u001b[0;32mimport\u001b[0m \u001b[0mtableschema\u001b[0m\u001b[0;34m\u001b[0m\u001b[0;34m\u001b[0m\u001b[0m\n\u001b[0m",
      "\u001b[0;31mModuleNotFoundError\u001b[0m: No module named 'tableschema'"
     ]
    }
   ],
   "source": [
    "import tableschema"
   ]
  },
  {
   "cell_type": "code",
   "execution_count": null,
   "metadata": {},
   "outputs": [],
   "source": []
  }
 ],
 "metadata": {
  "kernelspec": {
   "display_name": "Python 3",
   "language": "python",
   "name": "python3"
  },
  "language_info": {
   "codemirror_mode": {
    "name": "ipython",
    "version": 3
   },
   "file_extension": ".py",
   "mimetype": "text/x-python",
   "name": "python",
   "nbconvert_exporter": "python",
   "pygments_lexer": "ipython3",
   "version": "3.7.6"
  }
 },
 "nbformat": 4,
 "nbformat_minor": 2
}
