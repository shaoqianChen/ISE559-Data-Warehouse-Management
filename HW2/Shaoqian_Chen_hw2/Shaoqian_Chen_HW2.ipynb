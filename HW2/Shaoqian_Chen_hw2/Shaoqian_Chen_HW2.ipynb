{
  "nbformat": 4,
  "nbformat_minor": 0,
  "metadata": {
    "colab": {
      "name": "Shaoqian_Chen_HW2.ipynb",
      "provenance": [],
      "collapsed_sections": []
    },
    "kernelspec": {
      "name": "python3",
      "display_name": "Python 3"
    }
  },
  "cells": [
    {
      "cell_type": "code",
      "metadata": {
        "id": "dqBWfRfC1eDw",
        "colab_type": "code",
        "outputId": "8dad2b41-6cb5-40bd-c33d-bb7738d596d2",
        "colab": {
          "base_uri": "https://localhost:8080/",
          "height": 34
        }
      },
      "source": [
        "from google.colab import drive\n",
        "drive.mount('/content/gdrive', force_remount=True)\n",
        "import numpy as np\n",
        "import matplotlib.pyplot as plt\n",
        "import time\n",
        "import random\n",
        "\n",
        "np.set_printoptions(suppress=True) # Suppress scientific notation while printing numbers\n",
        "%matplotlib inline "
      ],
      "execution_count": 16,
      "outputs": [
        {
          "output_type": "stream",
          "text": [
            "Mounted at /content/gdrive\n"
          ],
          "name": "stdout"
        }
      ]
    },
    {
      "cell_type": "code",
      "metadata": {
        "id": "l5wxPMw0bBzE",
        "colab_type": "code",
        "colab": {}
      },
      "source": [
        "import csv\n",
        "import json"
      ],
      "execution_count": 0,
      "outputs": []
    },
    {
      "cell_type": "markdown",
      "metadata": {
        "id": "7NO2Wr0fFI-H",
        "colab_type": "text"
      },
      "source": [
        "# Task 1"
      ]
    },
    {
      "cell_type": "code",
      "metadata": {
        "id": "g94MopEmbCqz",
        "colab_type": "code",
        "colab": {}
      },
      "source": [
        "def task1(inputfile,outputfile):\n",
        "    import csv\n",
        "    csv1 = csv.reader(open(inputfile,\"rt\"))\n",
        "    sort = list(csv1)\n",
        "    biglist = [[],[],[],[],[],[],[],[],[],[],[],[]]\n",
        "    for i in range(1,len(sort)):\n",
        "      if (sort[i][1]==\"108\"):\n",
        "        biglist[11].append(int(sort[i][2]))\n",
        "      if (sort[i][1]==\"107\"):\n",
        "        biglist[10].append(int(sort[i][2]))\n",
        "      if (sort[i][1]==\"106\"):\n",
        "        biglist[9].append(int(sort[i][2]))\n",
        "      if (sort[i][1]==\"105\"):\n",
        "        biglist[8].append(int(sort[i][2]))\n",
        "      if (sort[i][1]==\"104\"):\n",
        "        biglist[7].append(int(sort[i][2]))\n",
        "      if (sort[i][1]==\"103\"):\n",
        "        biglist[6].append(int(sort[i][2]))\n",
        "      if (sort[i][1]==\"102\"):\n",
        "        biglist[5].append(int(sort[i][2]))\n",
        "      if (sort[i][1]==\"101\"):\n",
        "        biglist[4].append(int(sort[i][2]))\n",
        "      if (sort[i][1]==\"100\"):\n",
        "        biglist[3].append(int(sort[i][2]))\n",
        "      if (sort[i][1]==\"99\"):\n",
        "        biglist[2].append(int(sort[i][2]))\n",
        "      if (sort[i][1]==\"98\"):\n",
        "        biglist[1].append(int(sort[i][2]))\n",
        "      if (sort[i][1]==\"97\"):\n",
        "        biglist[0].append(int(sort[i][2]))\n",
        "    tasklist = []\n",
        "    for j in biglist:\n",
        "      if len(j)==0:\n",
        "        tasklist.append(0)\n",
        "      else:\n",
        "        tasklist.append(round(sum(j)/len(j),1))  \n",
        "    movieID = [97,98,99,100,101,102,103,104,105,106,107,108]\n",
        "    \n",
        "    with open(outputfile, 'w', newline='') as file:\n",
        "        writer = csv.writer(file)\n",
        "        for i in range(len(tasklist)):\n",
        "          writer.writerow([movieID[i],tasklist[i]])"
      ],
      "execution_count": 0,
      "outputs": []
    },
    {
      "cell_type": "code",
      "metadata": {
        "id": "iEOlkyJDbGlW",
        "colab_type": "code",
        "colab": {}
      },
      "source": [
        "task1(\"gdrive/My Drive/movies.csv\",\"gdrive/My Drive/task1.csv\")"
      ],
      "execution_count": 0,
      "outputs": []
    },
    {
      "cell_type": "code",
      "metadata": {
        "id": "Gcune0RsbiPV",
        "colab_type": "code",
        "colab": {}
      },
      "source": [
        ""
      ],
      "execution_count": 0,
      "outputs": []
    },
    {
      "cell_type": "code",
      "metadata": {
        "id": "l4Pb685lbiLm",
        "colab_type": "code",
        "colab": {}
      },
      "source": [
        ""
      ],
      "execution_count": 0,
      "outputs": []
    },
    {
      "cell_type": "code",
      "metadata": {
        "id": "B1TNZPQrbiH6",
        "colab_type": "code",
        "colab": {}
      },
      "source": [
        ""
      ],
      "execution_count": 0,
      "outputs": []
    },
    {
      "cell_type": "markdown",
      "metadata": {
        "id": "v1po5f2uFPJ2",
        "colab_type": "text"
      },
      "source": [
        "# Task 2"
      ]
    },
    {
      "cell_type": "code",
      "metadata": {
        "id": "wNA8akGmbiAI",
        "colab_type": "code",
        "colab": {}
      },
      "source": [
        "def task2(inputfile,outputfile):\n",
        "    import csv\n",
        "    csv1 = csv.reader(open(inputfile,\"rt\"))\n",
        "    sort = list(csv1)\n",
        "    biglist = [[],[],[],[],[],[],[],[],[],[],[],[]]\n",
        "    for i in range(1,len(sort)):\n",
        "      if (sort[i][1]==\"108\"):\n",
        "        biglist[11].append(int(sort[i][2]))\n",
        "      if (sort[i][1]==\"107\"):\n",
        "        biglist[10].append(int(sort[i][2]))\n",
        "      if (sort[i][1]==\"106\"):\n",
        "        biglist[9].append(int(sort[i][2]))\n",
        "      if (sort[i][1]==\"105\"):\n",
        "        biglist[8].append(int(sort[i][2]))\n",
        "      if (sort[i][1]==\"104\"):\n",
        "        biglist[7].append(int(sort[i][2]))\n",
        "      if (sort[i][1]==\"103\"):\n",
        "        biglist[6].append(int(sort[i][2]))\n",
        "      if (sort[i][1]==\"102\"):\n",
        "        biglist[5].append(int(sort[i][2]))\n",
        "      if (sort[i][1]==\"101\"):\n",
        "        biglist[4].append(int(sort[i][2]))\n",
        "      if (sort[i][1]==\"100\"):\n",
        "        biglist[3].append(int(sort[i][2]))\n",
        "      if (sort[i][1]==\"99\"):\n",
        "        biglist[2].append(int(sort[i][2]))\n",
        "      if (sort[i][1]==\"98\"):\n",
        "        biglist[1].append(int(sort[i][2]))\n",
        "      if (sort[i][1]==\"97\"):\n",
        "        biglist[0].append(int(sort[i][2]))\n",
        "    tasklist = []\n",
        "    for j in biglist:\n",
        "      if len(j)==0:\n",
        "        tasklist.append(0)\n",
        "      else:\n",
        "        tasklist.append(round(sum(j)/len(j),1))  \n",
        "    movieID = [97,98,99,100,101,102,103,104,105,106,107,108]\n",
        "    \n",
        "    with open(outputfile, 'w', newline='') as file:\n",
        "        writer = csv.writer(file)\n",
        "        writer.writerow([\"movieID\",\"avg_rating\"])\n",
        "        for i in range(len(tasklist)):\n",
        "          writer.writerow([movieID[i],tasklist[i]])"
      ],
      "execution_count": 0,
      "outputs": []
    },
    {
      "cell_type": "code",
      "metadata": {
        "id": "k3W1EFEcbhyR",
        "colab_type": "code",
        "colab": {}
      },
      "source": [
        "task2(\"gdrive/My Drive/movies.csv\",\"gdrive/My Drive/task2.csv\")"
      ],
      "execution_count": 0,
      "outputs": []
    },
    {
      "cell_type": "code",
      "metadata": {
        "id": "PzuUwD5MblNp",
        "colab_type": "code",
        "colab": {}
      },
      "source": [
        ""
      ],
      "execution_count": 0,
      "outputs": []
    },
    {
      "cell_type": "code",
      "metadata": {
        "id": "FCbGB7ngblK5",
        "colab_type": "code",
        "colab": {}
      },
      "source": [
        ""
      ],
      "execution_count": 0,
      "outputs": []
    },
    {
      "cell_type": "markdown",
      "metadata": {
        "id": "Qa-2bhvgFRPi",
        "colab_type": "text"
      },
      "source": [
        "# Task 3"
      ]
    },
    {
      "cell_type": "code",
      "metadata": {
        "id": "E3nJz8i8blIO",
        "colab_type": "code",
        "colab": {}
      },
      "source": [
        "def task3(jsoninput,jsonoutput):\n",
        "    import csv\n",
        "    import json\n",
        "    with open(jsoninput) as f:\n",
        "        data = json.load(f)\n",
        "    biglist3 = [[],[],[],[],[],[],[],[],[],[],[],[]]\n",
        "    for i in range(len(data[\"data\"])):\n",
        "      if (data[\"data\"][i][1]==108):\n",
        "        biglist3[11].append(int(data[\"data\"][i][2]))\n",
        "      if (data[\"data\"][i][1]==107):\n",
        "        biglist3[10].append(int(data[\"data\"][i][2]))\n",
        "      if (data[\"data\"][i][1]==106):\n",
        "        biglist3[9].append(int(data[\"data\"][i][2]))\n",
        "      if (data[\"data\"][i][1]==105):\n",
        "        biglist3[8].append(int(data[\"data\"][i][2]))\n",
        "      if (data[\"data\"][i][1]==104):\n",
        "        biglist3[7].append(int(data[\"data\"][i][2]))\n",
        "      if (data[\"data\"][i][1]==103):\n",
        "        biglist3[6].append(int(data[\"data\"][i][2]))\n",
        "      if (data[\"data\"][i][1]==102):\n",
        "        biglist3[5].append(int(data[\"data\"][i][2]))\n",
        "      if (data[\"data\"][i][1]==101):\n",
        "        biglist3[4].append(int(data[\"data\"][i][2]))\n",
        "      if (data[\"data\"][i][1]==100):\n",
        "        biglist3[3].append(int(data[\"data\"][i][2]))\n",
        "      if (data[\"data\"][i][1]==99):\n",
        "        biglist3[2].append(int(data[\"data\"][i][2]))\n",
        "      if (data[\"data\"][i][1]==98):\n",
        "        biglist3[1].append(int(data[\"data\"][i][2]))\n",
        "      if (data[\"data\"][i][1]==97):\n",
        "        biglist3[0].append(int(data[\"data\"][i][2]))\n",
        "    tasklist3 = []\n",
        "    for j in biglist3:\n",
        "      if len(j)==0:\n",
        "        tasklist3.append(0)\n",
        "      else:\n",
        "        tasklist3.append(round(sum(j)/len(j),1))  \n",
        "    movieID = [97,98,99,100,101,102,103,104,105,106,107,108]\n",
        "    a = {\"metadata\":{\"info\":{\"author\": \"Shaoqian Chen\", \"organization\": \"USC\", \"creation_date\": \"02/24/2020\"},\"columns\":{\"movieID\":\"movie id for the movies\",\"avg_rating\":\"avg rating given to the movies\",}},\"data\":[[k,v]for k, v in zip(movieID, tasklist3)]}\n",
        "    with open(jsonoutput, 'w') as json_file:\n",
        "      json.dump(a,json_file,indent=1)"
      ],
      "execution_count": 0,
      "outputs": []
    },
    {
      "cell_type": "code",
      "metadata": {
        "id": "6iO7SOYjbqsI",
        "colab_type": "code",
        "colab": {}
      },
      "source": [
        "task3(\"gdrive/My Drive/movies.json\",\"gdrive/My Drive/task3.json\")"
      ],
      "execution_count": 0,
      "outputs": []
    },
    {
      "cell_type": "code",
      "metadata": {
        "id": "cuIQmpzuk5HH",
        "colab_type": "code",
        "colab": {}
      },
      "source": [
        ""
      ],
      "execution_count": 0,
      "outputs": []
    },
    {
      "cell_type": "markdown",
      "metadata": {
        "id": "NWJe4rlrFTNx",
        "colab_type": "text"
      },
      "source": [
        "# Task 4"
      ]
    },
    {
      "cell_type": "code",
      "metadata": {
        "id": "EcwqzIcVcGrM",
        "colab_type": "code",
        "colab": {}
      },
      "source": [
        "def task4(inputjson,outputcsv):\n",
        "    import csv\n",
        "    import json\n",
        "    with open(inputjson) as f:\n",
        "        data = json.load(f)\n",
        "        \n",
        "    with open(outputcsv, 'w', newline='') as file:\n",
        "        writer = csv.writer(file)\n",
        "        writer.writerow([\"author\",\"organization\",\"creation_date\"])\n",
        "        writer.writerow([data[\"metadata\"][\"info\"][\"author\"],data[\"metadata\"][\"info\"][\"organization\"],data[\"metadata\"][\"info\"][\"creation_date\"]])\n",
        "        writer.writerow([])\n",
        "        writer.writerow(['movieID',\"avg_rating\"])\n",
        "        for i in range(len(data[\"data\"])):\n",
        "          writer.writerow([data[\"data\"][i][0],data[\"data\"][i][1]])"
      ],
      "execution_count": 0,
      "outputs": []
    },
    {
      "cell_type": "code",
      "metadata": {
        "id": "mdxFdgf4cGoy",
        "colab_type": "code",
        "colab": {}
      },
      "source": [
        "task4(\"gdrive/My Drive/task3.json\",\"gdrive/My Drive/task4.csv\")"
      ],
      "execution_count": 0,
      "outputs": []
    },
    {
      "cell_type": "code",
      "metadata": {
        "id": "cZFiuDzZcGlx",
        "colab_type": "code",
        "colab": {}
      },
      "source": [
        "#Extra Credit"
      ],
      "execution_count": 0,
      "outputs": []
    },
    {
      "cell_type": "markdown",
      "metadata": {
        "id": "FofU5VZKFVlk",
        "colab_type": "text"
      },
      "source": [
        "# Extra Credit"
      ]
    },
    {
      "cell_type": "code",
      "metadata": {
        "id": "vewIMqd8cGjE",
        "colab_type": "code",
        "outputId": "1450c3be-c316-4834-fc23-7a391cedbcce",
        "colab": {
          "base_uri": "https://localhost:8080/",
          "height": 301
        }
      },
      "source": [
        "import csv\n",
        "with open(\"gdrive/My Drive/task4.csv\",\"r\") as f:\n",
        "    dt = csv.reader(f,delimiter=',')\n",
        "    for row in dt:\n",
        "        print(\",\".join(row))"
      ],
      "execution_count": 27,
      "outputs": [
        {
          "output_type": "stream",
          "text": [
            "author,organization,creation_date\n",
            "Shaoqian Chen,USC,02/24/2020\n",
            "\n",
            "movieID,avg_rating\n",
            "97,2.5\n",
            "98,2.8\n",
            "99,2.1\n",
            "100,3.2\n",
            "101,3.7\n",
            "102,3.4\n",
            "103,4.0\n",
            "104,3.0\n",
            "105,2.3\n",
            "106,4.0\n",
            "107,1.0\n",
            "108,4.0\n"
          ],
          "name": "stdout"
        }
      ]
    },
    {
      "cell_type": "code",
      "metadata": {
        "id": "_PdjpatrcGea",
        "colab_type": "code",
        "colab": {}
      },
      "source": [
        ""
      ],
      "execution_count": 0,
      "outputs": []
    },
    {
      "cell_type": "code",
      "metadata": {
        "id": "ZO6vMEO9bqfl",
        "colab_type": "code",
        "colab": {}
      },
      "source": [
        ""
      ],
      "execution_count": 0,
      "outputs": []
    },
    {
      "cell_type": "markdown",
      "metadata": {
        "id": "oQ50qN9ZFZey",
        "colab_type": "text"
      },
      "source": [
        "# Task 5"
      ]
    },
    {
      "cell_type": "code",
      "metadata": {
        "id": "etNOKDhQblEw",
        "colab_type": "code",
        "colab": {}
      },
      "source": [
        "\n",
        "def task5(inputcsv,outputjson):\n",
        "  ! pip install tableschema\n",
        "  from tableschema import Table \n",
        "  table = Table(inputcsv)\n",
        "  table.read(keyed=True)\n",
        "\n",
        "  table.infer()\n",
        "  table.schema.descriptor\n",
        "\n",
        "  table.schema.descriptor[\"missingValues\"] = \"N/A\"\n",
        "  table.schema.commit()\n",
        "  table.schema.valid\n",
        "  table.schema.errors\n",
        "\n",
        "  table.schema.descriptor[\"missingValues\"] = \"N/A\"\n",
        "  table.schema.commit()\n",
        "  table.schema.valid\n",
        "  table.schema.errors\n",
        "\n",
        "  table.read(keyed=True)\n",
        "  table.schema.save(outputjson)"
      ],
      "execution_count": 0,
      "outputs": []
    },
    {
      "cell_type": "code",
      "metadata": {
        "id": "C1_jCkKiEmjY",
        "colab_type": "code",
        "colab": {
          "base_uri": "https://localhost:8080/",
          "height": 514
        },
        "outputId": "3e9345b2-81e7-4fd5-a6df-d3be0eef1d0d"
      },
      "source": [
        "task5(\"gdrive/My Drive/movies.csv\",\"gdrive/My Drive/schema.json\")"
      ],
      "execution_count": 29,
      "outputs": [
        {
          "output_type": "stream",
          "text": [
            "Requirement already satisfied: tableschema in /usr/local/lib/python3.6/dist-packages (1.13.1)\n",
            "Requirement already satisfied: unicodecsv>=0.14 in /usr/local/lib/python3.6/dist-packages (from tableschema) (0.14.1)\n",
            "Requirement already satisfied: python-dateutil>=2.4 in /usr/local/lib/python3.6/dist-packages (from tableschema) (2.6.1)\n",
            "Requirement already satisfied: six>=1.9 in /usr/local/lib/python3.6/dist-packages (from tableschema) (1.12.0)\n",
            "Requirement already satisfied: click>=3.3 in /usr/local/lib/python3.6/dist-packages (from tableschema) (7.0)\n",
            "Requirement already satisfied: tabulator>=1.29 in /usr/local/lib/python3.6/dist-packages (from tableschema) (1.35.0)\n",
            "Requirement already satisfied: rfc3986>=1.1.0 in /usr/local/lib/python3.6/dist-packages (from tableschema) (1.3.2)\n",
            "Requirement already satisfied: isodate>=0.5.4 in /usr/local/lib/python3.6/dist-packages (from tableschema) (0.6.0)\n",
            "Requirement already satisfied: jsonschema>=2.5 in /usr/local/lib/python3.6/dist-packages (from tableschema) (2.6.0)\n",
            "Requirement already satisfied: requests>=2.5 in /usr/local/lib/python3.6/dist-packages (from tableschema) (2.21.0)\n",
            "Requirement already satisfied: jsonlines>=1.1 in /usr/local/lib/python3.6/dist-packages (from tabulator>=1.29->tableschema) (1.2.0)\n",
            "Requirement already satisfied: boto3>=1.9 in /usr/local/lib/python3.6/dist-packages (from tabulator>=1.29->tableschema) (1.11.15)\n",
            "Requirement already satisfied: sqlalchemy>=0.9.6 in /usr/local/lib/python3.6/dist-packages (from tabulator>=1.29->tableschema) (1.3.13)\n",
            "Requirement already satisfied: linear-tsv>=1.0 in /usr/local/lib/python3.6/dist-packages (from tabulator>=1.29->tableschema) (1.1.0)\n",
            "Requirement already satisfied: xlrd>=1.0 in /usr/local/lib/python3.6/dist-packages (from tabulator>=1.29->tableschema) (1.1.0)\n",
            "Requirement already satisfied: cchardet>=1.0 in /usr/local/lib/python3.6/dist-packages (from tabulator>=1.29->tableschema) (2.1.5)\n",
            "Requirement already satisfied: openpyxl>=2.6 in /usr/local/lib/python3.6/dist-packages (from tabulator>=1.29->tableschema) (3.0.3)\n",
            "Requirement already satisfied: ijson>=2.5 in /usr/local/lib/python3.6/dist-packages (from tabulator>=1.29->tableschema) (2.6.1)\n",
            "Requirement already satisfied: chardet<3.1.0,>=3.0.2 in /usr/local/lib/python3.6/dist-packages (from requests>=2.5->tableschema) (3.0.4)\n",
            "Requirement already satisfied: idna<2.9,>=2.5 in /usr/local/lib/python3.6/dist-packages (from requests>=2.5->tableschema) (2.8)\n",
            "Requirement already satisfied: urllib3<1.25,>=1.21.1 in /usr/local/lib/python3.6/dist-packages (from requests>=2.5->tableschema) (1.24.3)\n",
            "Requirement already satisfied: certifi>=2017.4.17 in /usr/local/lib/python3.6/dist-packages (from requests>=2.5->tableschema) (2019.11.28)\n",
            "Requirement already satisfied: botocore<1.15.0,>=1.14.15 in /usr/local/lib/python3.6/dist-packages (from boto3>=1.9->tabulator>=1.29->tableschema) (1.14.15)\n",
            "Requirement already satisfied: s3transfer<0.4.0,>=0.3.0 in /usr/local/lib/python3.6/dist-packages (from boto3>=1.9->tabulator>=1.29->tableschema) (0.3.3)\n",
            "Requirement already satisfied: jmespath<1.0.0,>=0.7.1 in /usr/local/lib/python3.6/dist-packages (from boto3>=1.9->tabulator>=1.29->tableschema) (0.9.4)\n",
            "Requirement already satisfied: jdcal in /usr/local/lib/python3.6/dist-packages (from openpyxl>=2.6->tabulator>=1.29->tableschema) (1.4.1)\n",
            "Requirement already satisfied: et-xmlfile in /usr/local/lib/python3.6/dist-packages (from openpyxl>=2.6->tabulator>=1.29->tableschema) (1.0.1)\n",
            "Requirement already satisfied: docutils<0.16,>=0.10 in /usr/local/lib/python3.6/dist-packages (from botocore<1.15.0,>=1.14.15->boto3>=1.9->tabulator>=1.29->tableschema) (0.15.2)\n"
          ],
          "name": "stdout"
        }
      ]
    },
    {
      "cell_type": "code",
      "metadata": {
        "id": "6hL6d1ZD4SBV",
        "colab_type": "code",
        "colab": {}
      },
      "source": [
        ""
      ],
      "execution_count": 0,
      "outputs": []
    }
  ]
}